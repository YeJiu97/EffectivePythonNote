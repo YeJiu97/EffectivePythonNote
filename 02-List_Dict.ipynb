{
 "cells": [
  {
   "cell_type": "markdown",
   "id": "5fc20e91-159b-46aa-abaf-2ad3546113b9",
   "metadata": {},
   "source": [
    "## 对序列做切片"
   ]
  },
  {
   "cell_type": "markdown",
   "id": "d6debfe6-82d3-4eac-8e70-81a8a45b149e",
   "metadata": {},
   "source": [
    "Python提供对序列进行切片的操作："
   ]
  },
  {
   "cell_type": "code",
   "execution_count": 1,
   "id": "1a77dbbb-8d8c-4d85-9c71-69a541ec356c",
   "metadata": {},
   "outputs": [
    {
     "name": "stdout",
     "output_type": "stream",
     "text": [
      "Middl two:  ['d', 'e']\n"
     ]
    }
   ],
   "source": [
    "a = ['a', 'b', 'c', 'd', 'e', 'f', 'g', 'h']\n",
    "\n",
    "print(\"Middl two: \", a[3:5])"
   ]
  },
  {
   "cell_type": "code",
   "execution_count": 2,
   "id": "5f311aeb-eaf0-4d42-a261-55dd4b6aa250",
   "metadata": {},
   "outputs": [
    {
     "name": "stdout",
     "output_type": "stream",
     "text": [
      "All but ends: ['b', 'c', 'd', 'e', 'f', 'g']\n"
     ]
    }
   ],
   "source": [
    "print('All but ends:', a[1:7])"
   ]
  },
  {
   "cell_type": "markdown",
   "id": "4bf93083-e61b-428a-b40a-de00b0f7b99d",
   "metadata": {},
   "source": [
    "如果是从头开始，可以这样写："
   ]
  },
  {
   "cell_type": "code",
   "execution_count": 3,
   "id": "16f5d8c9-4656-4a7f-8dbe-e5883a50fedc",
   "metadata": {},
   "outputs": [],
   "source": [
    "assert a[:5] == a[0:5]"
   ]
  },
  {
   "cell_type": "markdown",
   "id": "8d4d4445-b4fa-4261-94ae-4c4bce3115be",
   "metadata": {},
   "source": [
    "如果一直取到列表末尾："
   ]
  },
  {
   "cell_type": "code",
   "execution_count": 4,
   "id": "f027cd2a-ccd6-4fb1-8dd3-82656114e42d",
   "metadata": {},
   "outputs": [
    {
     "data": {
      "text/plain": [
       "['b', 'c', 'd', 'e', 'f', 'g', 'h']"
      ]
     },
     "execution_count": 4,
     "metadata": {},
     "output_type": "execute_result"
    }
   ],
   "source": [
    "a[1:]"
   ]
  },
  {
   "cell_type": "markdown",
   "id": "80a5d100-94d3-4b90-8630-732e78ae55a7",
   "metadata": {},
   "source": [
    "Pyton也支持使用负数作为下标从列表末尾往前算。"
   ]
  },
  {
   "cell_type": "code",
   "execution_count": 8,
   "id": "1180e76a-92ea-4be8-8f2a-2d5e15dcbecf",
   "metadata": {},
   "outputs": [
    {
     "data": {
      "text/plain": [
       "['a', 'b', 'c', 'd', 'e', 'f', 'g']"
      ]
     },
     "execution_count": 8,
     "metadata": {},
     "output_type": "execute_result"
    }
   ],
   "source": [
    "a[:-1]"
   ]
  },
  {
   "cell_type": "code",
   "execution_count": 9,
   "id": "06262d1e-caa9-4368-ab91-0a30637fbbea",
   "metadata": {},
   "outputs": [
    {
     "data": {
      "text/plain": [
       "['a', 'b', 'c', 'd', 'e']"
      ]
     },
     "execution_count": 9,
     "metadata": {},
     "output_type": "execute_result"
    }
   ],
   "source": [
    "a[:-3]"
   ]
  },
  {
   "cell_type": "code",
   "execution_count": 10,
   "id": "37b27c0d-3349-4e84-9882-863956fb523c",
   "metadata": {},
   "outputs": [
    {
     "data": {
      "text/plain": [
       "['f', 'g']"
      ]
     },
     "execution_count": 10,
     "metadata": {},
     "output_type": "execute_result"
    }
   ],
   "source": [
    "a[-3:-1]"
   ]
  },
  {
   "cell_type": "markdown",
   "id": "b3867dae-2832-4721-bf03-b32b4d29eb15",
   "metadata": {},
   "source": [
    "如果起点和终点所确定的范围超出了列表的边界，那么系统会自动忽略不存在的元素。"
   ]
  },
  {
   "cell_type": "markdown",
   "id": "6577ec87-0d49-4d47-8c7b-041a72ce6c0e",
   "metadata": {},
   "source": [
    "被切割出来的列表是一个新的列表，对其进行修改不会导致原先的列表的改变："
   ]
  },
  {
   "cell_type": "code",
   "execution_count": 11,
   "id": "e27bc908-766f-43c7-bd1b-31a77f08118e",
   "metadata": {},
   "outputs": [
    {
     "name": "stdout",
     "output_type": "stream",
     "text": [
      "Before:  [0, 1, 2, 3, 4, 5, 6]\n",
      "After:  [0, -100, 2]\n"
     ]
    }
   ],
   "source": [
    "a = [0, 1, 2, 3, 4, 5, 6]\n",
    "b = a[:3]\n",
    "b[1] = -100\n",
    "\n",
    "print(\"Before: \", a)\n",
    "print(\"After: \", b)"
   ]
  },
  {
   "cell_type": "markdown",
   "id": "fac847d9-b28a-47f7-b271-69900f5bc0b4",
   "metadata": {},
   "source": [
    "## 不要同时指定开始结束下标和步进"
   ]
  },
  {
   "cell_type": "markdown",
   "id": "1b1979a2-b647-463e-bf36-f527a8eaa4b0",
   "metadata": {},
   "source": [
    "Python语言还有另一种切片方式：\n",
    "\n",
    "```\n",
    "somelist[start:end:step]\n",
    "```"
   ]
  },
  {
   "cell_type": "code",
   "execution_count": 12,
   "id": "7e1df03e-4afe-483d-88b4-023f02e488c5",
   "metadata": {},
   "outputs": [],
   "source": [
    "num_list = [1, 2, 3, 4, 5, 6, 7, 8, 9, 10]\n",
    "\n",
    "odds = num_list[::2]\n",
    "evens = num_list[1::2]"
   ]
  },
  {
   "cell_type": "code",
   "execution_count": 13,
   "id": "934894fb-8e8d-4d59-8565-fe14d530cc2e",
   "metadata": {},
   "outputs": [
    {
     "name": "stdout",
     "output_type": "stream",
     "text": [
      "[1, 3, 5, 7, 9]\n"
     ]
    }
   ],
   "source": [
    "print(odds)"
   ]
  },
  {
   "cell_type": "code",
   "execution_count": 14,
   "id": "83e8b621-34ba-4783-a858-a998054a75fb",
   "metadata": {},
   "outputs": [
    {
     "name": "stdout",
     "output_type": "stream",
     "text": [
      "[2, 4, 6, 8, 10]\n"
     ]
    }
   ],
   "source": [
    "print(evens)"
   ]
  },
  {
   "cell_type": "markdown",
   "id": "a8964692-a757-4a0d-9bd2-5714e74e7790",
   "metadata": {},
   "source": [
    "Python中有一个常用的技巧就是将-1当成步进值对bytes类型的字符串做切片，从而进行对字符串的反转："
   ]
  },
  {
   "cell_type": "code",
   "execution_count": 15,
   "id": "d96f1376-a95c-487e-9fbd-2d7f76b7d4f9",
   "metadata": {},
   "outputs": [
    {
     "name": "stdout",
     "output_type": "stream",
     "text": [
      "dlroW olleH\n"
     ]
    }
   ],
   "source": [
    "string_one = \"Hello World\"\n",
    "reverse_string_one = string_one[::-1]\n",
    "\n",
    "print(reverse_string_one)"
   ]
  },
  {
   "cell_type": "markdown",
   "id": "230a3955-5925-41ff-a58d-a0c3d4076900",
   "metadata": {},
   "source": [
    "Unicode形式的字符串也可以进行这样的反转："
   ]
  },
  {
   "cell_type": "code",
   "execution_count": 16,
   "id": "1f2ec215-63b4-49da-8444-de12138994c9",
   "metadata": {},
   "outputs": [
    {
     "name": "stdout",
     "output_type": "stream",
     "text": [
      "。界世，好你\n"
     ]
    }
   ],
   "source": [
    "chinese_string = \"你好，世界。\"\n",
    "reverse_chinese_string = chinese_string[::-1]\n",
    "\n",
    "print(reverse_chinese_string)"
   ]
  },
  {
   "cell_type": "markdown",
   "id": "1007f5d6-10f8-4212-9551-805c5b4c29ea",
   "metadata": {},
   "source": [
    "我们也可以使用其他大小的负值作为进步值："
   ]
  },
  {
   "cell_type": "code",
   "execution_count": 17,
   "id": "6f47d606-3284-4db2-aed6-bb8fd783ec13",
   "metadata": {},
   "outputs": [
    {
     "data": {
      "text/plain": [
       "[10, 8, 6, 4, 2]"
      ]
     },
     "execution_count": 17,
     "metadata": {},
     "output_type": "execute_result"
    }
   ],
   "source": [
    "num_list[::-2]"
   ]
  },
  {
   "cell_type": "markdown",
   "id": "154cb430-f917-413e-ab98-8eb6d67eacb7",
   "metadata": {},
   "source": [
    "## 使用sort方法的key参数来表示复杂的排序逻辑"
   ]
  },
  {
   "cell_type": "markdown",
   "id": "81abc99f-9b30-4acf-99a5-658f7ce00163",
   "metadata": {},
   "source": [
    "Python内置的列表类型提供了名叫sort的方法，可以根据多项指标给list实例中的元素排序。"
   ]
  },
  {
   "cell_type": "code",
   "execution_count": 18,
   "id": "ac51e4b6-dd8c-4f83-97ac-6b95e0a8ee92",
   "metadata": {},
   "outputs": [],
   "source": [
    "numbers = [10, 11, 34, 25, 18]\n",
    "\n",
    "numbers.sort()"
   ]
  },
  {
   "cell_type": "code",
   "execution_count": 19,
   "id": "b7747d25-4bb8-4798-96d1-cb714f17021e",
   "metadata": {},
   "outputs": [
    {
     "name": "stdout",
     "output_type": "stream",
     "text": [
      "[10, 11, 18, 25, 34]\n"
     ]
    }
   ],
   "source": [
    "print(numbers)"
   ]
  },
  {
   "cell_type": "markdown",
   "id": "679b8c0f-f167-41c8-8725-59c996be476f",
   "metadata": {},
   "source": [
    "我们可以使用lambda关键字定义这样的一个函数，用来传递给sort方法的key参数："
   ]
  },
  {
   "cell_type": "code",
   "execution_count": 22,
   "id": "baa93da6-b7ea-4817-add8-6e2e58301a93",
   "metadata": {},
   "outputs": [],
   "source": [
    "class Tool:\n",
    "    def __init__(self, name, weight):\n",
    "        self.name = name\n",
    "        self.weight = weight\n",
    "    \n",
    "    def __repr__(self):\n",
    "        return f'Tool({self.name!r}, {self.weight})'\n",
    "    \n",
    "tools = [\n",
    "    Tool('level', 3.5),\n",
    "    Tool('hammer', 1.25),\n",
    "    Tool('screwdriver', 1.5),\n",
    "    Tool('chisel', 0.25),\n",
    "]"
   ]
  },
  {
   "cell_type": "markdown",
   "id": "1ff08f2f-1965-45ab-b5a3-c5fe6fb54bb1",
   "metadata": {},
   "source": [
    "开始定义lambda函数："
   ]
  },
  {
   "cell_type": "code",
   "execution_count": 25,
   "id": "4170a896-0136-453f-9c2d-0f2b5fdbcfa7",
   "metadata": {},
   "outputs": [
    {
     "name": "stdout",
     "output_type": "stream",
     "text": [
      "[Tool('chisel', 0.25), Tool('hammer', 1.25), Tool('level', 3.5), Tool('screwdriver', 1.5)]\n"
     ]
    }
   ],
   "source": [
    "tools.sort(key = lambda x: x.name)\n",
    "print(tools)"
   ]
  },
  {
   "cell_type": "markdown",
   "id": "94038685-9e42-4b94-8213-5a9f3a8dc993",
   "metadata": {},
   "source": [
    "## 不要依赖给字典添加条目录时所用的顺序"
   ]
  },
  {
   "cell_type": "markdown",
   "id": "9a72ee8b-4b74-4ccb-bb9d-d5d7c74a3450",
   "metadata": {},
   "source": [
    "在Python 3.5和之前的Python版本，字典中的键值的顺序是任意的，所以无法通过index来访问字典中的键值对。\n",
    "\n",
    "但是从Python 3.6 开始，字典会保留这些键值对在添加时所使用的顺序，并且在Python 3.7中正式的确认了这条规则："
   ]
  },
  {
   "cell_type": "code",
   "execution_count": 26,
   "id": "8bbdb536-7df5-4884-8dbb-bd7bbb38d1c4",
   "metadata": {},
   "outputs": [],
   "source": [
    "animal_list = {'cat': 'kitten',\n",
    "              'dog': 'puppy'}"
   ]
  },
  {
   "cell_type": "code",
   "execution_count": 27,
   "id": "e11a8c2e-401f-4c75-9189-6ba6da6cf9b6",
   "metadata": {},
   "outputs": [
    {
     "name": "stdout",
     "output_type": "stream",
     "text": [
      "{'cat': 'kitten', 'dog': 'puppy'}\n"
     ]
    }
   ],
   "source": [
    "print(animal_list)"
   ]
  },
  {
   "cell_type": "markdown",
   "id": "5743abe5-bad0-4817-9730-ae1b3f2e04ae",
   "metadata": {},
   "source": [
    "使用index来进行访问："
   ]
  },
  {
   "cell_type": "code",
   "execution_count": 29,
   "id": "9b205cc2-66f1-44ab-8176-0e30bbad6fde",
   "metadata": {},
   "outputs": [
    {
     "data": {
      "text/plain": [
       "dict_keys(['cat', 'dog'])"
      ]
     },
     "execution_count": 29,
     "metadata": {},
     "output_type": "execute_result"
    }
   ],
   "source": [
    "animal_list.keys()"
   ]
  },
  {
   "cell_type": "markdown",
   "id": "13b4da0a-99e1-453f-891b-e571716647c6",
   "metadata": {},
   "source": [
    "可以发现键的顺序是按照创建的时候的顺序来显示的。"
   ]
  },
  {
   "cell_type": "markdown",
   "id": "1d5dfe61-4b02-44b6-aa33-b31915958f71",
   "metadata": {},
   "source": [
    "如果我们添加一个新的键值对："
   ]
  },
  {
   "cell_type": "code",
   "execution_count": 31,
   "id": "40067d88-a440-48a8-a7ce-6e51e9524956",
   "metadata": {},
   "outputs": [],
   "source": [
    "animal_list['bird'] = 'sweety'"
   ]
  },
  {
   "cell_type": "markdown",
   "id": "d0345f17-0f64-41ba-b403-e54d817fe868",
   "metadata": {},
   "source": [
    "我们再来看看是否真的是这样的："
   ]
  },
  {
   "cell_type": "code",
   "execution_count": 32,
   "id": "f9b9eb92-a620-4be3-8661-5aae1f7c1834",
   "metadata": {},
   "outputs": [
    {
     "data": {
      "text/plain": [
       "dict_keys(['cat', 'dog', 'bird'])"
      ]
     },
     "execution_count": 32,
     "metadata": {},
     "output_type": "execute_result"
    }
   ],
   "source": [
    "animal_list.keys()"
   ]
  },
  {
   "cell_type": "markdown",
   "id": "96ec9ad5-d6fc-4d8d-942b-21a82179c1ee",
   "metadata": {},
   "source": [
    "同理，values："
   ]
  },
  {
   "cell_type": "code",
   "execution_count": 33,
   "id": "c41435e0-2afa-4250-95c7-42ff820d5240",
   "metadata": {},
   "outputs": [
    {
     "data": {
      "text/plain": [
       "dict_values(['kitten', 'puppy', 'sweety'])"
      ]
     },
     "execution_count": 33,
     "metadata": {},
     "output_type": "execute_result"
    }
   ],
   "source": [
    "animal_list.values()"
   ]
  },
  {
   "cell_type": "markdown",
   "id": "f23834c8-b429-4091-b993-d0089fc080ff",
   "metadata": {},
   "source": [
    "这样的修改导致了对字典的类型以及实现的细节特性产生了许多影响："
   ]
  },
  {
   "cell_type": "code",
   "execution_count": 34,
   "id": "0c55130f-0597-43f4-b5a1-4c9d897ab6c4",
   "metadata": {},
   "outputs": [],
   "source": [
    "def my_func(**kwargs):\n",
    "    for key, value in kwargs.items():\n",
    "        print(f'{key} = {value}')"
   ]
  },
  {
   "cell_type": "code",
   "execution_count": 35,
   "id": "69280559-60fd-4f24-b97f-39b6dfec439f",
   "metadata": {},
   "outputs": [
    {
     "name": "stdout",
     "output_type": "stream",
     "text": [
      "goose = gosling\n",
      "kangaroo = joey\n"
     ]
    }
   ],
   "source": [
    "my_func(goose='gosling', kangaroo='joey')"
   ]
  },
  {
   "cell_type": "markdown",
   "id": "ed82c412-d9f5-4d6b-8825-cac12366787b",
   "metadata": {},
   "source": [
    "这些关键字参数总是能够保留调用函数时所指定的顺序。"
   ]
  },
  {
   "cell_type": "markdown",
   "id": "2b4ef655-ad25-4383-ae9b-3297dcdd8fab",
   "metadata": {},
   "source": [
    "## 用get处理键不再字典中的情况，而不是使用in和KeyError"
   ]
  }
 ],
 "metadata": {
  "kernelspec": {
   "display_name": "Python 3 (ipykernel)",
   "language": "python",
   "name": "python3"
  },
  "language_info": {
   "codemirror_mode": {
    "name": "ipython",
    "version": 3
   },
   "file_extension": ".py",
   "mimetype": "text/x-python",
   "name": "python",
   "nbconvert_exporter": "python",
   "pygments_lexer": "ipython3",
   "version": "3.10.4"
  }
 },
 "nbformat": 4,
 "nbformat_minor": 5
}
