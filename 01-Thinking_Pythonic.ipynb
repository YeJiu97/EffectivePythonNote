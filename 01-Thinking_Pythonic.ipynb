{
 "cells": [
  {
   "cell_type": "markdown",
   "id": "2320e0a3-ee00-4376-b896-006b118147bd",
   "metadata": {},
   "source": [
    "## 确认Python的版本"
   ]
  },
  {
   "attachments": {
    "009c8c54-3461-41ce-81b1-02ede22c11b0.png": {
     "image/png": "[encoded data removed]"
    },
    "c08ef3f6-93de-4034-85b9-760a4960c8ab.png": {
     "image/png": "[encoded data removed]"
    }
   },
   "cell_type": "markdown",
   "id": "c5da7f8f-9499-4b08-b947-73654907283a",
   "metadata": {},
   "source": [
    "确认Python版本的方法有三种，一种是在命令界面输入\n",
    "```\n",
    "python --version\n",
    "```\n",
    "\n",
    "或者\n",
    "```\n",
    "python3 --version\n",
    "```\n",
    "\n",
    "![image.png](attachment:c08ef3f6-93de-4034-85b9-760a4960c8ab.png)\n",
    "\n",
    "第二种方法是直接进入python开发环境：\n",
    "\n",
    "![image.png](attachment:009c8c54-3461-41ce-81b1-02ede22c11b0.png)\n",
    "\n",
    "第三种方法是使用Python内置的sys模块来查询相关的值："
   ]
  },
  {
   "cell_type": "code",
   "execution_count": 3,
   "id": "df19f7be-9271-481a-a7a2-0a887878158a",
   "metadata": {},
   "outputs": [
    {
     "name": "stdout",
     "output_type": "stream",
     "text": [
      "sys.version_info(major=3, minor=10, micro=4, releaselevel='final', serial=0)\n",
      "3.10.4 (main, Jun 29 2022, 12:14:53) [GCC 11.2.0]\n"
     ]
    }
   ],
   "source": [
    "import sys\n",
    "print(sys.version_info)\n",
    "print(sys.version)"
   ]
  },
  {
   "cell_type": "markdown",
   "id": "43065538-7718-4cc0-ad0f-a6b3bea30684",
   "metadata": {},
   "source": [
    "## 遵循 PEP8 风格"
   ]
  },
  {
   "cell_type": "markdown",
   "id": "bec073c7-ae76-40ab-ab9d-d08f483f5e01",
   "metadata": {},
   "source": [
    "PEP8 是《Python Enhancement Proposal #8》的缩写。"
   ]
  },
  {
   "cell_type": "markdown",
   "id": "9f834a30-d103-48a1-be91-765661b2e8b2",
   "metadata": {},
   "source": [
    "关于空白的建议：\n",
    "1. 使用空格而不是tab\n",
    "2. 和语法相关的每一次都使用4个空格来来表示\n",
    "3. 对于占据多行的长表达式，除了首行之外其余的各行都需要在通常的缩进级别之上再加上4个空格\n",
    "4. 文件中的函数与类之间应该使用一个空行个开\n",
    "5. 在使用下标来获取元素，调用函数或者给关键字参数赋值的时候，不要再两旁添加空格\n",
    "6. 为变量赋值的时候，赋值符号的左侧和右侧应该各自写上一个空格，并且写一个就可以了\n"
   ]
  },
  {
   "cell_type": "markdown",
   "id": "352da1f3-90eb-4c44-86e7-b12533279e5e",
   "metadata": {},
   "source": [
    "关于命名的建议：\n",
    "1. 函数，变量，或者属性，应该使用小写字母来拼写，个个单词之间可以使用下划线来进行连接。\n",
    "2. 受保护的实例属性，应该以单个下划线开头\n",
    "3. 四有的实例属性，应该以两个下划线开头\n",
    "4. 类与异常，应该以买个单词首字母均大写的形式来进行命名"
   ]
  },
  {
   "cell_type": "markdown",
   "id": "19c6f71e-3f1c-4719-87ac-b4f4bb4bf3fc",
   "metadata": {},
   "source": [
    "关于表达式和语句的建议：\n",
    "1. 采用 if a is not b 而不是 if not a is b，也就是说不要将否定词放在整个表达式的前面\n",
    "2. 不要使用if len(somelist) == 0 来判断somelist是否为空，而是直接使用if not somelist，这会假定：空值将自动评估为False\n",
    "3. Python的if语句会默认把非空值判定为True，所以需要判定somelist是否存在着值，也应当使用if somelist\n",
    "4. 尽量不要使用当行的if语句，for循环或者while循环，而是应该将这些语句分成多行来写\n",
    "5. import的时候顺序为：标准模块，第三方模块和自用模块；并且每个部分的模块按照模块的首字母进行排序"
   ]
  },
  {
   "cell_type": "markdown",
   "id": "a2b66061-8bae-449f-b6e2-6c365c9f290f",
   "metadata": {},
   "source": [
    "## 了解 bytes, str 和 unicode 的区别"
   ]
  },
  {
   "cell_type": "markdown",
   "id": "25c7183a-0a6c-446b-a5f4-d4a46cc22259",
   "metadata": {},
   "source": [
    "Python有两种类型可以表示字符序列：一种是bytes，另一种是str。\n",
    "\n",
    "bytes实例包含的是原始数据，也就是8位的无符号值。(通常是按照ASCII编码标准来进行显示)。"
   ]
  },
  {
   "cell_type": "code",
   "execution_count": 4,
   "id": "921443ba-8333-4c48-99fa-25b0efbb6817",
   "metadata": {},
   "outputs": [
    {
     "name": "stdout",
     "output_type": "stream",
     "text": [
      "[104, 101, 49, 49, 48]\n",
      "b'he110'\n"
     ]
    }
   ],
   "source": [
    "a = b'h\\x65110'\n",
    "print(list(a))\n",
    "print(a)"
   ]
  },
  {
   "cell_type": "markdown",
   "id": "971f5a2d-fb7e-4331-a7ab-f9aa71728676",
   "metadata": {},
   "source": [
    "str实例包含的是Unicode码点（code point，也就做代码点），这些码点与人类语言中的文本字符相对应。"
   ]
  },
  {
   "cell_type": "code",
   "execution_count": 6,
   "id": "a8ac80ff-fa87-44c2-bf1d-ad1abf874bc3",
   "metadata": {},
   "outputs": [
    {
     "name": "stdout",
     "output_type": "stream",
     "text": [
      "['a', '̀', ' ', 'p', 'r', 'o', 'p', 'o', 's']\n",
      "à propos\n"
     ]
    }
   ],
   "source": [
    "a = 'a\\u0300 propos'\n",
    "print(list(a))\n",
    "print(a)"
   ]
  },
  {
   "cell_type": "markdown",
   "id": "a840eef3-2f6a-448a-b898-bf1606765df8",
   "metadata": {},
   "source": [
    "## 使用支持插值的f-string来替代c风格的格式字符串与str.format方法"
   ]
  },
  {
   "cell_type": "markdown",
   "id": "7732a416-10d7-44aa-969b-8d24f0383b0e",
   "metadata": {},
   "source": [
    "Python语言中最常用的字符串格式化方式是采用 % 格式化操作符。\n",
    "\n",
    "这个操作符左边的文本模块叫作格式字符串（format string），我们可以再操作符右边写上某个或者多个值所构成的元组，用来替代格式字符串里的相关符号。"
   ]
  },
  {
   "cell_type": "code",
   "execution_count": 7,
   "id": "4fe58d36-8f76-4046-b01c-8bc555655e4d",
   "metadata": {},
   "outputs": [
    {
     "name": "stdout",
     "output_type": "stream",
     "text": [
      "Binary is 187, hex is 3167\n"
     ]
    }
   ],
   "source": [
    "a = 0b10111011\n",
    "b = 0xc5f\n",
    "\n",
    "print(\"Binary is %d, hex is %d\" % (a, b))"
   ]
  },
  {
   "cell_type": "markdown",
   "id": "608cdb59-c935-4b2a-b54f-4bece7b7e100",
   "metadata": {},
   "source": [
    "格式字符串里面可以出现%d这样的格式说明符，这些说明符的意思是：%右边的对应数值会以这样的格式来替换这一部分内容。\n",
    "\n",
    "格式说明的写法来自于c语言的printf函数，Python语言和一些别的编程语言都依照那套写法来规定自己的格式字符串。"
   ]
  },
  {
   "cell_type": "markdown",
   "id": "5d54a626-809c-418a-89a0-709c84f9024b",
   "metadata": {},
   "source": [
    "但是C风格的格式字符串，再Python中有四个缺点。"
   ]
  },
  {
   "cell_type": "code",
   "execution_count": 8,
   "id": "cc50dc37-0116-42ec-b747-611cb6d8ebb8",
   "metadata": {},
   "outputs": [
    {
     "name": "stdout",
     "output_type": "stream",
     "text": [
      "my_value   = 1.23\n"
     ]
    }
   ],
   "source": [
    "key = 'my_value'\n",
    "value = 1.234\n",
    "formatted = '%-10s = %.2f' % (key, value)\n",
    "\n",
    "print(formatted)"
   ]
  },
  {
   "cell_type": "markdown",
   "id": "16f4a7f4-6224-4e76-92e4-40cbf02f7a0f",
   "metadata": {},
   "source": [
    "如果我们将key和value进行位置互换："
   ]
  },
  {
   "cell_type": "code",
   "execution_count": 9,
   "id": "29508afa-7501-4581-8dda-c07800a3b01c",
   "metadata": {},
   "outputs": [
    {
     "ename": "TypeError",
     "evalue": "must be real number, not str",
     "output_type": "error",
     "traceback": [
      "\u001b[0;31m---------------------------------------------------------------------------\u001b[0m",
      "\u001b[0;31mTypeError\u001b[0m                                 Traceback (most recent call last)",
      "Input \u001b[0;32mIn [9]\u001b[0m, in \u001b[0;36m<cell line: 1>\u001b[0;34m()\u001b[0m\n\u001b[0;32m----> 1\u001b[0m reordered_tuple \u001b[38;5;241m=\u001b[39m \u001b[38;5;124;43m'\u001b[39;49m\u001b[38;5;132;43;01m%-10s\u001b[39;49;00m\u001b[38;5;124;43m = \u001b[39;49m\u001b[38;5;132;43;01m%.2f\u001b[39;49;00m\u001b[38;5;124;43m'\u001b[39;49m\u001b[43m \u001b[49m\u001b[38;5;241;43m%\u001b[39;49m\u001b[43m \u001b[49m\u001b[43m(\u001b[49m\u001b[43mvalue\u001b[49m\u001b[43m,\u001b[49m\u001b[43m \u001b[49m\u001b[43mkey\u001b[49m\u001b[43m)\u001b[49m\n",
      "\u001b[0;31mTypeError\u001b[0m: must be real number, not str"
     ]
    }
   ],
   "source": [
    "reordered_tuple = '%-10s = %.2f' % (value, key)"
   ]
  },
  {
   "cell_type": "markdown",
   "id": "06b854df-980e-4cc8-b068-40b820db912b",
   "metadata": {},
   "source": [
    "可以发现会报错。"
   ]
  },
  {
   "cell_type": "markdown",
   "id": "f88b15e6-fa9d-4969-a3df-ce2f803128d2",
   "metadata": {},
   "source": [
    "同理："
   ]
  },
  {
   "cell_type": "code",
   "execution_count": 10,
   "id": "369cc59d-9206-42ab-ac60-86edb6eaffc4",
   "metadata": {},
   "outputs": [
    {
     "ename": "TypeError",
     "evalue": "must be real number, not str",
     "output_type": "error",
     "traceback": [
      "\u001b[0;31m---------------------------------------------------------------------------\u001b[0m",
      "\u001b[0;31mTypeError\u001b[0m                                 Traceback (most recent call last)",
      "Input \u001b[0;32mIn [10]\u001b[0m, in \u001b[0;36m<cell line: 1>\u001b[0;34m()\u001b[0m\n\u001b[0;32m----> 1\u001b[0m recordered_tuple \u001b[38;5;241m=\u001b[39m \u001b[38;5;124;43m'\u001b[39;49m\u001b[38;5;132;43;01m%.2f\u001b[39;49;00m\u001b[38;5;124;43m = \u001b[39;49m\u001b[38;5;132;43;01m%-10s\u001b[39;49;00m\u001b[38;5;124;43m'\u001b[39;49m\u001b[43m \u001b[49m\u001b[38;5;241;43m%\u001b[39;49m\u001b[43m \u001b[49m\u001b[43m(\u001b[49m\u001b[43mkey\u001b[49m\u001b[43m,\u001b[49m\u001b[43m \u001b[49m\u001b[43mvalue\u001b[49m\u001b[43m)\u001b[49m\n",
      "\u001b[0;31mTypeError\u001b[0m: must be real number, not str"
     ]
    }
   ],
   "source": [
    "recordered_tuple = '%.2f = %-10s' % (key, value)"
   ]
  },
  {
   "cell_type": "markdown",
   "id": "a5e36ebf-4f72-4995-86e5-966d4a358225",
   "metadata": {},
   "source": [
    "也会报错。"
   ]
  },
  {
   "cell_type": "markdown",
   "id": "aaa6ad6a-b8b2-42b4-8f09-96f354672171",
   "metadata": {},
   "source": [
    "第二个缺点是，再填充模板之前，经常需要对准备填写进入的这个值稍微做一些处理，但是这样以来表达式可能会边的非常的长。"
   ]
  },
  {
   "cell_type": "code",
   "execution_count": 11,
   "id": "7b8ead57-cd7f-4724-9b4c-514ee5069dd2",
   "metadata": {},
   "outputs": [
    {
     "name": "stdout",
     "output_type": "stream",
     "text": [
      "#0: avocados   = 1.25\n",
      "#1: bananas    = 2.50\n",
      "#2: cherries   = 15.00\n"
     ]
    }
   ],
   "source": [
    "pantry = [('avocados', 1.25),\n",
    "          ('bananas', 2.5),\n",
    "          ('cherries', 15)]\n",
    "\n",
    "for i, (item, count) in enumerate(pantry):\n",
    "    print('#%d: %-10s = %.2f' % (i, item, count))"
   ]
  }
 ],
 "metadata": {
  "kernelspec": {
   "display_name": "Python 3 (ipykernel)",
   "language": "python",
   "name": "python3"
  },
  "language_info": {
   "codemirror_mode": {
    "name": "ipython",
    "version": 3
   },
   "file_extension": ".py",
   "mimetype": "text/x-python",
   "name": "python",
   "nbconvert_exporter": "python",
   "pygments_lexer": "ipython3",
   "version": "3.10.4"
  }
 },
 "nbformat": 4,
 "nbformat_minor": 5
}
